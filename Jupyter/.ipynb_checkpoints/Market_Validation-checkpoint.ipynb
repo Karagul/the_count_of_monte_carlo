{
 "cells": [
  {
   "cell_type": "code",
   "execution_count": 1,
   "metadata": {
    "collapsed": true
   },
   "outputs": [],
   "source": [
    "import csv\n",
    "import pandas as pd\n",
    "import urllib\n",
    "import urllib2\n",
    "import datetime"
   ]
  },
  {
   "cell_type": "code",
   "execution_count": 2,
   "metadata": {
    "collapsed": false
   },
   "outputs": [],
   "source": [
    "df = pd.read_csv('../Data/companylist.csv')\n",
    "stock_tickers = df.Symbol"
   ]
  },
  {
   "cell_type": "code",
   "execution_count": 3,
   "metadata": {
    "collapsed": false
   },
   "outputs": [],
   "source": [
    "# Save results for each stock in a folder\n",
    "\n",
    "#for i in range(len(stock_tickers)):\n",
    "#    urllib.urlretrieve('http://finance.google.com/finance/getprices?i=600&p=300d&f=d,o,h,l,c,v&df=cpct&q=' + stock_tickers[0], \"../Data_From_Script/getprices_\" + stock_tickers[i] + \"_long.txt\");"
   ]
  },
  {
   "cell_type": "code",
   "execution_count": 4,
   "metadata": {
    "collapsed": false
   },
   "outputs": [],
   "source": [
    "dataDict = {};\n",
    "times = [];\n",
    "closing = [];\n",
    "\n",
    "with open('../Data/getprices_AMD_long.txt', 'rb') as csvfile:\n",
    "    pricereader = csv.reader(csvfile, delimiter=' ', quotechar='|')\n",
    "    for i, row in enumerate(pricereader):\n",
    "        if i > 6:\n",
    "            dataDict[i] = row;\n",
    "            values = row[0].split(',');\n",
    "            times.append(values[0]);\n",
    "            closing.append(float(values[1]));"
   ]
  },
  {
   "cell_type": "code",
   "execution_count": 5,
   "metadata": {
    "collapsed": false
   },
   "outputs": [],
   "source": [
    "timesUTC = [];\n",
    "\n",
    "currUnixTime = 0;\n",
    "currTime = None;\n",
    "\n",
    "for i in range(len(times)):\n",
    "    if times[i][0] == 'a':\n",
    "        #print i;\n",
    "        currUnixTime = int(times[i][1:]);\n",
    "        #print currUnixTime;\n",
    "        currTime = datetime.datetime.utcfromtimestamp(currUnixTime)\n",
    "        #print currTime\n",
    "        timesUTC.append(currTime);\n",
    "    else:\n",
    "        #print currUnixTime\n",
    "        timesUTC.append(datetime.datetime.utcfromtimestamp(currUnixTime + int(times[i])));"
   ]
  },
  {
   "cell_type": "code",
   "execution_count": 6,
   "metadata": {
    "collapsed": false
   },
   "outputs": [],
   "source": [
    "#print timesUTC"
   ]
  },
  {
   "cell_type": "code",
   "execution_count": 7,
   "metadata": {
    "collapsed": false
   },
   "outputs": [],
   "source": [
    "import numpy as np;\n",
    "\n",
    "##  Calculate moving average for all points over n data points in a list,\n",
    "##  then also removes n - 1 data points and returns that as a separate list\n",
    "\n",
    "def calculateMovingAverageList(data, n):    \n",
    "    currentAverage = 0;\n",
    "    internalValues = [];\n",
    "    movingAverage = [];\n",
    "\n",
    "    for i in range(n):\n",
    "        # Append all values to internalValues;\n",
    "        # print i;\n",
    "        internalValues.append(data[i]);\n",
    "        \n",
    "    currentAverage = np.mean(internalValues);\n",
    "    movingAverage.append(currentAverage);\n",
    "        \n",
    "    for i in range(n, len(data)):\n",
    "        # print i;\n",
    "        del internalValues[0]; # Delete first index\n",
    "        internalValues.append(data[i]); # Add data at i;\n",
    "        currentAverage = np.mean(internalValues);\n",
    "        movingAverage.append(currentAverage);\n",
    "        \n",
    "    return movingAverage, data[n:];"
   ]
  },
  {
   "cell_type": "code",
   "execution_count": 8,
   "metadata": {
    "collapsed": false
   },
   "outputs": [],
   "source": [
    "movingAverage50, shorterData50 = calculateMovingAverageList(closing, 50);\n",
    "timeStamp50 = timesUTC[50:];"
   ]
  },
  {
   "cell_type": "code",
   "execution_count": 9,
   "metadata": {
    "collapsed": false
   },
   "outputs": [],
   "source": [
    "movingAverage20, shorterData20 = calculateMovingAverageList(closing, 20);\n",
    "timeStamp20 = timesUTC[20:];"
   ]
  },
  {
   "cell_type": "code",
   "execution_count": 10,
   "metadata": {
    "collapsed": false
   },
   "outputs": [],
   "source": [
    "movingAverage10, shorterData10 = calculateMovingAverageList(closing, 10);\n",
    "timeStamp10 = timesUTC[10:];"
   ]
  },
  {
   "cell_type": "code",
   "execution_count": 11,
   "metadata": {
    "collapsed": true
   },
   "outputs": [],
   "source": [
    "movingAverage78, shorterData78 = calculateMovingAverageList(closing, 78);\n",
    "timeStamp78 = timesUTC[78:];"
   ]
  },
  {
   "cell_type": "code",
   "execution_count": 12,
   "metadata": {
    "collapsed": true
   },
   "outputs": [],
   "source": [
    "movingAverage5, shorterData5 = calculateMovingAverageList(closing, 5);\n",
    "timeStamp5 = timesUTC[5:];"
   ]
  },
  {
   "cell_type": "code",
   "execution_count": 13,
   "metadata": {
    "collapsed": true
   },
   "outputs": [],
   "source": [
    "movingAverage39, shorterData39 = calculateMovingAverageList(closing, 39);\n",
    "timeStamp39 = timesUTC[39:];"
   ]
  },
  {
   "cell_type": "code",
   "execution_count": 14,
   "metadata": {
    "collapsed": true
   },
   "outputs": [],
   "source": [
    "movingAverage20, shorterData20 = calculateMovingAverageList(closing, 20);\n",
    "timeStamp20 = timesUTC[20:];"
   ]
  },
  {
   "cell_type": "code",
   "execution_count": 15,
   "metadata": {
    "collapsed": false
   },
   "outputs": [
    {
     "data": {
      "text/plain": [
       "(1972, 1973, 1982)"
      ]
     },
     "execution_count": 15,
     "metadata": {},
     "output_type": "execute_result"
    }
   ],
   "source": [
    "len(timeStamp10), len(movingAverage10), len(closing)"
   ]
  },
  {
   "cell_type": "code",
   "execution_count": 16,
   "metadata": {
    "collapsed": false
   },
   "outputs": [
    {
     "name": "stdout",
     "output_type": "stream",
     "text": [
      "Using matplotlib backend: MacOSX\n"
     ]
    }
   ],
   "source": [
    "import matplotlib;\n",
    "import matplotlib.pyplot as plt\n",
    "%matplotlib"
   ]
  },
  {
   "cell_type": "code",
   "execution_count": 17,
   "metadata": {
    "collapsed": false
   },
   "outputs": [
    {
     "name": "stdout",
     "output_type": "stream",
     "text": [
      "2017-04-24 13:30:10\n",
      "2017-04-24 13:30:11\n",
      "2017-04-24 13:32:44\n",
      "13.13302\n",
      "13.12452\n",
      "13.41232\n"
     ]
    }
   ],
   "source": [
    "print timeStamp10[0];\n",
    "print timeStamp10[1];\n",
    "print timeStamp10[50];\n",
    "\n",
    "print movingAverage10[0];\n",
    "print movingAverage10[1];\n",
    "print movingAverage10[50];"
   ]
  },
  {
   "cell_type": "code",
   "execution_count": 18,
   "metadata": {
    "collapsed": true
   },
   "outputs": [],
   "source": [
    "def fixTimeData(timeList, n, data, movingAverage):\n",
    "    for i in range(n - 1):\n",
    "        timeList.append(i);\n",
    "        movingAverage.insert(0, 0);\n",
    "        \n",
    "    for j in range(i, len(data) - 1):\n",
    "        timeList.append(j)\n",
    "        \n",
    "    return movingAverage;"
   ]
  },
  {
   "cell_type": "code",
   "execution_count": 19,
   "metadata": {
    "collapsed": false
   },
   "outputs": [],
   "source": [
    "fixTime5 = [];\n",
    "fixTime20 = [];\n",
    "fixTime39 = [];\n",
    "fixTime78 = [];\n",
    "\n",
    "movingAverage5 = fixTimeData(fixTime5, 5, closing, movingAverage5);\n",
    "movingAverage20 = fixTimeData(fixTime20, 20, closing, movingAverage20);\n",
    "movingAverage39 = fixTimeData(fixTime39, 39, closing, movingAverage39);\n",
    "movingAverage78 = fixTimeData(fixTime78, 78, closing, movingAverage78);"
   ]
  },
  {
   "cell_type": "code",
   "execution_count": 20,
   "metadata": {
    "collapsed": true
   },
   "outputs": [],
   "source": [
    "##  Calculate decision points"
   ]
  },
  {
   "cell_type": "code",
   "execution_count": 21,
   "metadata": {
    "collapsed": false
   },
   "outputs": [],
   "source": [
    "def calculateSlope(movingAverageList):\n",
    "    dX = 1.0;\n",
    "    dY = [];\n",
    "    \n",
    "    for i in range(len(movingAverageList) - 1):\n",
    "        dY.append(movingAverageList[i + 1] - movingAverageList[i]);\n",
    "        \n",
    "    dY.append(movingAverageList[i + 1]);\n",
    "    slope = [dy / dX for dy in dY];\n",
    "    return slope;"
   ]
  },
  {
   "cell_type": "code",
   "execution_count": 22,
   "metadata": {
    "collapsed": false
   },
   "outputs": [],
   "source": [
    "slope78 = calculateSlope(movingAverage78);\n",
    "slope39 = calculateSlope(movingAverage39);\n",
    "slope20 = calculateSlope(movingAverage20);\n",
    "slope5 = calculateSlope(movingAverage5);"
   ]
  },
  {
   "cell_type": "code",
   "execution_count": 23,
   "metadata": {
    "collapsed": false
   },
   "outputs": [
    {
     "data": {
      "text/plain": [
       "(1983, 1983, 1983, 1983)"
      ]
     },
     "execution_count": 23,
     "metadata": {},
     "output_type": "execute_result"
    }
   ],
   "source": [
    "len(slope78), len(slope39), len(slope20), len(slope5)"
   ]
  },
  {
   "cell_type": "code",
   "execution_count": 26,
   "metadata": {
    "collapsed": false
   },
   "outputs": [
    {
     "name": "stdout",
     "output_type": "stream",
     "text": [
      "1983\n",
      "1982\n"
     ]
    }
   ],
   "source": [
    "print len(movingAverage78)\n",
    "print len(closing)"
   ]
  },
  {
   "cell_type": "code",
   "execution_count": 24,
   "metadata": {
    "collapsed": false
   },
   "outputs": [
    {
     "ename": "IndexError",
     "evalue": "list index out of range",
     "output_type": "error",
     "traceback": [
      "\u001b[0;31m---------------------------------------------------------------------------\u001b[0m",
      "\u001b[0;31mIndexError\u001b[0m                                Traceback (most recent call last)",
      "\u001b[0;32m<ipython-input-24-cd1bcea104a0>\u001b[0m in \u001b[0;36m<module>\u001b[0;34m()\u001b[0m\n\u001b[1;32m      2\u001b[0m \u001b[0;34m\u001b[0m\u001b[0m\n\u001b[1;32m      3\u001b[0m \u001b[0;32mfor\u001b[0m \u001b[0mi\u001b[0m \u001b[0;32min\u001b[0m \u001b[0mrange\u001b[0m\u001b[0;34m(\u001b[0m\u001b[0mlen\u001b[0m\u001b[0;34m(\u001b[0m\u001b[0mslope78\u001b[0m\u001b[0;34m)\u001b[0m\u001b[0;34m)\u001b[0m\u001b[0;34m:\u001b[0m\u001b[0;34m\u001b[0m\u001b[0m\n\u001b[0;32m----> 4\u001b[0;31m     \u001b[0;32mif\u001b[0m \u001b[0;34m(\u001b[0m\u001b[0mslope78\u001b[0m\u001b[0;34m[\u001b[0m\u001b[0mi\u001b[0m\u001b[0;34m]\u001b[0m \u001b[0;34m>=\u001b[0m \u001b[0;36m0\u001b[0m\u001b[0;34m)\u001b[0m \u001b[0;32mand\u001b[0m \u001b[0;34m(\u001b[0m\u001b[0mslope39\u001b[0m\u001b[0;34m[\u001b[0m\u001b[0mi\u001b[0m\u001b[0;34m]\u001b[0m \u001b[0;34m>\u001b[0m \u001b[0;36m0\u001b[0m\u001b[0;34m)\u001b[0m \u001b[0;32mand\u001b[0m \u001b[0;34m(\u001b[0m\u001b[0mslope20\u001b[0m\u001b[0;34m[\u001b[0m\u001b[0mi\u001b[0m\u001b[0;34m]\u001b[0m \u001b[0;34m>\u001b[0m \u001b[0;36m0\u001b[0m\u001b[0;34m)\u001b[0m \u001b[0;32mand\u001b[0m \u001b[0;34m(\u001b[0m\u001b[0mslope5\u001b[0m\u001b[0;34m[\u001b[0m\u001b[0mi\u001b[0m\u001b[0;34m]\u001b[0m \u001b[0;34m>\u001b[0m \u001b[0;36m0\u001b[0m\u001b[0;34m)\u001b[0m \u001b[0;32mand\u001b[0m \u001b[0;34m(\u001b[0m\u001b[0mclosing\u001b[0m\u001b[0;34m[\u001b[0m\u001b[0mi\u001b[0m\u001b[0;34m]\u001b[0m \u001b[0;34m>\u001b[0m \u001b[0mmovingAverage78\u001b[0m\u001b[0;34m[\u001b[0m\u001b[0mi\u001b[0m\u001b[0;34m]\u001b[0m\u001b[0;34m)\u001b[0m\u001b[0;34m:\u001b[0m\u001b[0;34m\u001b[0m\u001b[0m\n\u001b[0m\u001b[1;32m      5\u001b[0m         \u001b[0mbuyPoints\u001b[0m\u001b[0;34m.\u001b[0m\u001b[0mappend\u001b[0m\u001b[0;34m(\u001b[0m\u001b[0mi\u001b[0m\u001b[0;34m)\u001b[0m\u001b[0;34m;\u001b[0m\u001b[0;34m\u001b[0m\u001b[0m\n",
      "\u001b[0;31mIndexError\u001b[0m: list index out of range"
     ]
    }
   ],
   "source": [
    "buyPoints = [];\n",
    "\n",
    "for i in range(len(slope78)):\n",
    "    if (slope78[i] >= 0) and (slope39[i] > 0) and (slope20[i] > 0) and (slope5[i] > 0) and (closing[i] > movingAverage78[i]):\n",
    "        buyPoints.append(i);"
   ]
  },
  {
   "cell_type": "code",
   "execution_count": null,
   "metadata": {
    "collapsed": false
   },
   "outputs": [],
   "source": [
    "print buyPoints"
   ]
  },
  {
   "cell_type": "code",
   "execution_count": null,
   "metadata": {
    "collapsed": true
   },
   "outputs": [],
   "source": [
    "sellPoints = [];\n",
    "\n",
    "for i in range(len(slope78)):\n",
    "    if (slope78[i] < 0) and (slope39[i] < 0) and (slope20[i] < 0) and (slope5[i] < 0) and (closing[i] < movingAverage78[i]):\n",
    "        sellPoints.append(i);"
   ]
  },
  {
   "cell_type": "code",
   "execution_count": null,
   "metadata": {
    "collapsed": false
   },
   "outputs": [],
   "source": [
    "for x in sellPoints:\n",
    "    print timesUTC[x]"
   ]
  },
  {
   "cell_type": "code",
   "execution_count": null,
   "metadata": {
    "collapsed": false
   },
   "outputs": [],
   "source": [
    "print buyPoints"
   ]
  },
  {
   "cell_type": "code",
   "execution_count": null,
   "metadata": {
    "collapsed": false
   },
   "outputs": [],
   "source": [
    "print sellPoints"
   ]
  },
  {
   "cell_type": "code",
   "execution_count": null,
   "metadata": {
    "collapsed": false
   },
   "outputs": [],
   "source": [
    "##  Find one buyPoint and one sellPoint\n",
    "\n",
    "buy_sell_Points_tuple_list = []\n",
    "\n",
    "for buyPoint in buyPoints:\n",
    "    buy_sell_Points_tuple_list.append((buyPoint, \"buy\"));\n",
    "\n",
    "for sellPoint in sellPoints:\n",
    "    buy_sell_Points_tuple_list.append((sellPoint, \"sell\"));"
   ]
  },
  {
   "cell_type": "code",
   "execution_count": null,
   "metadata": {
    "collapsed": true
   },
   "outputs": [],
   "source": [
    "buy_sell_Points_tuple_list.sort(key=lambda tup: tup[0])  # sorts in place"
   ]
  },
  {
   "cell_type": "code",
   "execution_count": null,
   "metadata": {
    "collapsed": false
   },
   "outputs": [],
   "source": [
    "print buy_sell_Points_tuple_list"
   ]
  },
  {
   "cell_type": "code",
   "execution_count": null,
   "metadata": {
    "collapsed": true
   },
   "outputs": [],
   "source": [
    "buy_list = [];\n",
    "sell_list = [];\n",
    "\n",
    "isBuy = True;\n",
    "\n",
    "for value in buy_sell_Points_tuple_list:\n",
    "    if isBuy == True and value[1] == 'buy':\n",
    "        buy_list.append(value[0]);\n",
    "        isBuy = False;\n",
    "    elif isBuy == False and value[1] == 'sell':\n",
    "        sell_list.append(value[0]);\n",
    "        isBuy = True;"
   ]
  },
  {
   "cell_type": "code",
   "execution_count": null,
   "metadata": {
    "collapsed": false
   },
   "outputs": [],
   "source": [
    "buy_list"
   ]
  },
  {
   "cell_type": "code",
   "execution_count": null,
   "metadata": {
    "collapsed": false
   },
   "outputs": [],
   "source": [
    "sell_list"
   ]
  },
  {
   "cell_type": "code",
   "execution_count": null,
   "metadata": {
    "collapsed": false
   },
   "outputs": [],
   "source": [
    "##  Calculate earnings (from just sell minus buy)\n",
    "earnings = [];\n",
    "number_of_transactions = 0;\n",
    "\n",
    "for i in range(len(sell_list)):\n",
    "    earnings.append(closing[sell_list[i]] - closing[buy_list[i]]);\n",
    "    number_of_transactions += 1;\n",
    "\n",
    "#for i in range(1, len(buy_list)):\n",
    "    # print buy_list[i], sell_list[i - 1];\n",
    "    # print closing[buy_list[i]], closing\n",
    "    #earnings.append(-(closing[buy_list[i]] - closing[sell_list[i - 1]]));\n",
    "    #number_of_transactions += 1;"
   ]
  },
  {
   "cell_type": "code",
   "execution_count": null,
   "metadata": {
    "collapsed": false
   },
   "outputs": [],
   "source": [
    "print earnings\n",
    "print np.sum(earnings)\n",
    "print np.mean(earnings)\n",
    "print np.std(earnings)"
   ]
  },
  {
   "cell_type": "code",
   "execution_count": null,
   "metadata": {
    "collapsed": false
   },
   "outputs": [],
   "source": [
    "## Price of transaction:\n",
    "price_of_transactions = - 7 * number_of_transactions * 2;\n",
    "print price_of_transactions;"
   ]
  },
  {
   "cell_type": "code",
   "execution_count": null,
   "metadata": {
    "collapsed": false
   },
   "outputs": [],
   "source": [
    "## Net sum with number_of_shares amount of stock\n",
    "number_of_shares = 367;\n",
    "print np.sum(earnings) * number_of_shares - price_of_transactions;"
   ]
  },
  {
   "cell_type": "code",
   "execution_count": null,
   "metadata": {
    "collapsed": false
   },
   "outputs": [],
   "source": [
    "## Percentage gain\n",
    "starting_amount = closing[buy_list[0]] * number_of_shares + 7;\n",
    "final_amount = starting_amount + np.sum(earnings) * number_of_shares - price_of_transactions;\n",
    "\n",
    "print final_amount;\n",
    "print starting_amount;\n",
    "\n",
    "print final_amount / starting_amount;"
   ]
  },
  {
   "cell_type": "code",
   "execution_count": null,
   "metadata": {
    "collapsed": true
   },
   "outputs": [],
   "source": [
    "plt.plot(closing);\n",
    "plt.plot(fixTime5, movingAverage5);\n",
    "plt.plot(fixTime20, movingAverage20);\n",
    "plt.plot(fixTime39, movingAverage39);\n",
    "plt.plot(fixTime78, movingAverage78);\n",
    "\n",
    "for buy in buy_list:\n",
    "    plt.axvline(x=buy, color='g');\n",
    "    \n",
    "for sell in sell_list:\n",
    "    plt.axvline(x=sell, color='r');\n",
    "\n",
    "plt.xlim([0, 2500]);\n",
    "plt.ylim([9.6, 15]);"
   ]
  },
  {
   "cell_type": "markdown",
   "metadata": {},
   "source": [
    "#  Data from:\n",
    "http://finance.google.com/finance/getprices?i=600&p=30d&f=d,o,h,l,c,v&df=cpct&q=AMD"
   ]
  },
  {
   "cell_type": "code",
   "execution_count": null,
   "metadata": {
    "collapsed": true
   },
   "outputs": [],
   "source": []
  }
 ],
 "metadata": {
  "anaconda-cloud": {},
  "kernelspec": {
   "display_name": "Python [Root]",
   "language": "python",
   "name": "Python [Root]"
  },
  "language_info": {
   "codemirror_mode": {
    "name": "ipython",
    "version": 2
   },
   "file_extension": ".py",
   "mimetype": "text/x-python",
   "name": "python",
   "nbconvert_exporter": "python",
   "pygments_lexer": "ipython2",
   "version": "2.7.12"
  }
 },
 "nbformat": 4,
 "nbformat_minor": 0
}
