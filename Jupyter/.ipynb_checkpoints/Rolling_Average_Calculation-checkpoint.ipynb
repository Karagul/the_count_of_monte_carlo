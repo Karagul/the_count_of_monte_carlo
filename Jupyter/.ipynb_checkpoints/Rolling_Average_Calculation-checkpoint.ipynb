{
 "cells": [
  {
   "cell_type": "code",
   "execution_count": 1,
   "metadata": {
    "collapsed": true
   },
   "outputs": [],
   "source": [
    "## Calculating the rolling average of a stock ticker"
   ]
  },
  {
   "cell_type": "code",
   "execution_count": 2,
   "metadata": {
    "collapsed": false
   },
   "outputs": [
    {
     "name": "stderr",
     "output_type": "stream",
     "text": [
      "/Users/Tony/anaconda/lib/python2.7/site-packages/pandas/io/data.py:35: FutureWarning: \n",
      "The pandas.io.data module is moved to a separate package (pandas-datareader) and will be removed from pandas in a future version.\n",
      "After installing the pandas-datareader package (https://github.com/pydata/pandas-datareader), you can change the import ``from pandas.io import data, wb`` to ``from pandas_datareader import data, wb``.\n",
      "  FutureWarning)\n"
     ]
    }
   ],
   "source": [
    "import numpy as np\n",
    "import pandas as pd\n",
    "import pandas.io.data as web"
   ]
  },
  {
   "cell_type": "code",
   "execution_count": 3,
   "metadata": {
    "collapsed": false
   },
   "outputs": [],
   "source": [
    "## Importing data from Google's finance source\n",
    "data = web.DataReader('FB', data_source = 'google', start = '1/1/2014', end = '6/5/2017')"
   ]
  },
  {
   "cell_type": "code",
   "execution_count": 4,
   "metadata": {
    "collapsed": false
   },
   "outputs": [
    {
     "name": "stdout",
     "output_type": "stream",
     "text": [
      "<class 'pandas.core.frame.DataFrame'>\n",
      "DatetimeIndex: 861 entries, 2014-01-02 to 2017-06-02\n",
      "Data columns (total 5 columns):\n",
      "Open      861 non-null float64\n",
      "High      861 non-null float64\n",
      "Low       861 non-null float64\n",
      "Close     861 non-null float64\n",
      "Volume    861 non-null int64\n",
      "dtypes: float64(4), int64(1)\n",
      "memory usage: 40.4 KB\n"
     ]
    }
   ],
   "source": [
    "## Display data information\n",
    "data.info()"
   ]
  },
  {
   "cell_type": "code",
   "execution_count": 10,
   "metadata": {
    "collapsed": false
   },
   "outputs": [
    {
     "name": "stdout",
     "output_type": "stream",
     "text": [
      "54.83\n"
     ]
    }
   ],
   "source": [
    "## Syntax (key = string of date, value = float64)\n",
    "print data.Open['2014-01-02']"
   ]
  },
  {
   "cell_type": "code",
   "execution_count": 11,
   "metadata": {
    "collapsed": false
   },
   "outputs": [
    {
     "name": "stdout",
     "output_type": "stream",
     "text": [
      "54.83\n"
     ]
    }
   ],
   "source": [
    "## Note that we can also access with traditional array indices\n",
    "print data.Open[0]"
   ]
  },
  {
   "cell_type": "code",
   "execution_count": 33,
   "metadata": {
    "collapsed": true
   },
   "outputs": [],
   "source": [
    "## Create field \"RollingAverage\"\n",
    "data.RollingAverage = [];"
   ]
  },
  {
   "cell_type": "code",
   "execution_count": 34,
   "metadata": {
    "collapsed": false
   },
   "outputs": [],
   "source": [
    "## Calculate rolling average (previous n business days)\n",
    "\n",
    "def createRollingAverage(data, n):\n",
    "    ## Create field \"RollingAverage\"\n",
    "    data.RollingAverage = [];\n",
    "    \n",
    "    currentAverage = 0;\n",
    "    previousOpens = [data.Open[0]] * n;\n",
    "\n",
    "    for i, timestamp in enumerate(data.Open.keys()):\n",
    "        # Remove first index and add new open price\n",
    "        del previousOpens[0];\n",
    "        previousOpens.append(data.Open[i]);\n",
    "        # Calculate rolling average\n",
    "        data.RollingAverage.append(np.mean(previousOpens));"
   ]
  },
  {
   "cell_type": "code",
   "execution_count": 35,
   "metadata": {
    "collapsed": false
   },
   "outputs": [
    {
     "data": {
      "text/plain": [
       "54.877500000000005"
      ]
     },
     "execution_count": 35,
     "metadata": {},
     "output_type": "execute_result"
    }
   ],
   "source": [
    "## Plot rolling average information against current open prices"
   ]
  },
  {
   "cell_type": "code",
   "execution_count": null,
   "metadata": {
    "collapsed": true
   },
   "outputs": [],
   "source": []
  }
 ],
 "metadata": {
  "kernelspec": {
   "display_name": "Python [Root]",
   "language": "python",
   "name": "Python [Root]"
  },
  "language_info": {
   "codemirror_mode": {
    "name": "ipython",
    "version": 2
   },
   "file_extension": ".py",
   "mimetype": "text/x-python",
   "name": "python",
   "nbconvert_exporter": "python",
   "pygments_lexer": "ipython2",
   "version": "2.7.12"
  }
 },
 "nbformat": 4,
 "nbformat_minor": 0
}
